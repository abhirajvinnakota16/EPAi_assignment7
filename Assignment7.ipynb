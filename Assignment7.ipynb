{
 "cells": [
  {
   "cell_type": "code",
   "execution_count": null,
   "metadata": {},
   "outputs": [],
   "source": [
    "## Write a function using only list filter lambda that can tell whether a number is a Fibonacci number or not. \n",
    "## You can use a pre-calculated list/dict to store fib numbers till 10000 PTS:100"
   ]
  },
  {
   "cell_type": "code",
   "execution_count": 8,
   "metadata": {},
   "outputs": [
    {
     "data": {
      "text/plain": [
       "[1,\n",
       " 1,\n",
       " 2,\n",
       " 3,\n",
       " 5,\n",
       " 8,\n",
       " 13,\n",
       " 21,\n",
       " 34,\n",
       " 55,\n",
       " 89,\n",
       " 144,\n",
       " 233,\n",
       " 377,\n",
       " 610,\n",
       " 987,\n",
       " 1597,\n",
       " 2584,\n",
       " 4181,\n",
       " 6765]"
      ]
     },
     "execution_count": 8,
     "metadata": {},
     "output_type": "execute_result"
    }
   ],
   "source": [
    "## Making a fibonnacci series till 10000\n",
    "\n",
    "fib_list = [1,1]\n",
    "\n",
    "for i in range(10000-2):\n",
    "    fib_list.append(fib_list[-1] + fib_list[-2])\n",
    "    if fib_list[-1] > 10000:\n",
    "        break\n",
    "\n",
    "fib_list.pop()\n",
    "fib_list"
   ]
  },
  {
   "cell_type": "code",
   "execution_count": 11,
   "metadata": {},
   "outputs": [
    {
     "data": {
      "text/plain": [
       "[1, 2, 3, 5, 8, 13, 21, 34, 55, 89, 144, 233, 377, 610, 987, 1597, 2584, 4181]"
      ]
     },
     "execution_count": 11,
     "metadata": {},
     "output_type": "execute_result"
    }
   ],
   "source": [
    "list(filter(lambda x: x in fib_list, x))"
   ]
  },
  {
   "cell_type": "code",
   "execution_count": null,
   "metadata": {},
   "outputs": [],
   "source": [
    "# Using list comprehension (and zip/lambda/etc if required) write an expression that: PTS:100\n",
    "# add 2 iterables a and b such that a is even and b is odd\n",
    "# strips every vowel from a string provided (tsai>>t s)\n",
    "# acts like a ReLU function for a 1D array\n",
    "# acts like a sigmoid function for a 1D array\n",
    "# takes a small character string and shifts all characters by 5 (handle boundary conditions) tsai>>yxfn"
   ]
  },
  {
   "cell_type": "code",
   "execution_count": 15,
   "metadata": {},
   "outputs": [
    {
     "data": {
      "text/plain": [
       "[11, 13, 13, 15, 15, 17]"
      ]
     },
     "execution_count": 15,
     "metadata": {},
     "output_type": "execute_result"
    }
   ],
   "source": [
    "l1 = [0,1,2,3,4,5]\n",
    "l2 = [10,11,12,13,14]\n",
    "\n",
    "[a + b for a in l1 if a % 2 == 0 for b in l2 if b % 2 == 1]"
   ]
  },
  {
   "cell_type": "code",
   "execution_count": 16,
   "metadata": {},
   "outputs": [],
   "source": [
    "import math\n",
    "\n",
    "def two_two():\n",
    "    return [a for a in 'TSAI'.lower() if a not in ['a','e','i','o','u']]\n",
    "\n",
    "def two_three(nums100):\n",
    "    return [x if(x>0) else 0 for x in nums100]\n",
    "\n",
    "def two_four(nums100):\n",
    "    sig = lambda x: 1 / (1 + math.exp(-x))\n",
    "    return [sig(x) for x in nums100]\n",
    "\n",
    "def two_five():\n",
    "    func_char = lambda x: chr(((ord(x) + 5 - 96) % 26) + 96)\n",
    "    return [func_char(x) for x in 'tsai']"
   ]
  },
  {
   "cell_type": "code",
   "execution_count": 7,
   "metadata": {},
   "outputs": [
    {
     "data": {
      "text/plain": [
       "['t', 's']"
      ]
     },
     "execution_count": 7,
     "metadata": {},
     "output_type": "execute_result"
    }
   ],
   "source": [
    "two_two()"
   ]
  },
  {
   "cell_type": "code",
   "execution_count": 11,
   "metadata": {},
   "outputs": [
    {
     "name": "stdout",
     "output_type": "stream",
     "text": [
      "[0, 0, 0, 0, 92, 0, 4, 91, 22, 0, 13, 0, 33, 0, 0, 0, 0, 0, 0, 97, 9, 0, 9, 0, 0, 0, 0, 0, 91, 0, 0, 0, 53, 0, 0, 72, 65, 43, 0, 92, 0, 0, 54, 0, 13, 88, 52, 91, 63, 0, 27, 60, 0, 24, 22, 79, 24, 0, 0, 71, 0, 0, 0, 0, 0, 0, 0, 0, 0, 32, 0, 84, 0, 0, 0, 58, 0, 47, 20, 0, 0, 0, 0, 31, 96, 0, 0, 76, 0, 0, 0, 30, 0, 0, 0, 21, 0, 95, 39, 88]\n"
     ]
    }
   ],
   "source": [
    "import random\n",
    "nums100 = [random.randint(-100,100) for i in range(100)]\n",
    "\n",
    "print(two_three(nums100))"
   ]
  },
  {
   "cell_type": "code",
   "execution_count": null,
   "metadata": {},
   "outputs": [],
   "source": []
  },
  {
   "cell_type": "code",
   "execution_count": 40,
   "metadata": {},
   "outputs": [
    {
     "name": "stdout",
     "output_type": "stream",
     "text": [
      "[0, 0, 0, 0, 68, 0, 72, 0, 18, 0, 42, 97, 87, 33, 0, 0, 45, 40, 78, 0, 34, 4, 0, 64, 0, 53, 0, 55, 8, 97, 0, 34, 70, 0, 0, 6, 83, 40, 66, 0, 0, 0, 0, 10, 91, 0, 90, 63, 0, 69, 71, 84, 68, 0, 3, 0, 0, 65, 96, 100, 11, 0, 0, 10, 63, 0, 0, 0, 0, 0, 62, 0, 0, 45, 0, 0, 5, 86, 1, 0, 42, 32, 0, 87, 0, 87, 92, 0, 0, 86, 36, 45, 31, 52, 0, 0, 61, 36, 1, 0]\n"
     ]
    }
   ],
   "source": [
    "## lambda with list comprehensions\n",
    "func = lambda x: x if(x>0) else 0\n",
    "print([func(x) for x in nums100])"
   ]
  },
  {
   "cell_type": "code",
   "execution_count": 15,
   "metadata": {},
   "outputs": [
    {
     "name": "stdout",
     "output_type": "stream",
     "text": [
      "[2.6102790696677047e-23, 8.315280276641321e-07, 5.242885663363464e-22, 1.0261879630648827e-10, 1.0, 1.2664165549094016e-14, 0.9820137900379085, 1.0, 0.9999999997210531, 4.658886145103376e-15, 0.999997739675702, 2.2273635617957434e-39, 0.9999999999999953, 1.1089390193121365e-40, 0.0024726231566347743, 8.75651076269652e-27, 1.3336148155022612e-34, 2.6102790696677047e-23, 2.2273635617957434e-39, 1.0, 0.9998766054240137, 6.305116760146985e-16, 0.9998766054240137, 0.0024726231566347743, 6.914400106935423e-13, 1.8795288165355508e-12, 3.059022269256247e-07, 1.8048513878454153e-35, 1.0, 1.3336148155022612e-34, 2.2273635617957434e-39, 5.5210822770285325e-42, 1.0, 0.01798620996209156, 0.0003353501304664781, 1.0, 1.0, 1.0, 3.625140919143559e-34, 1.0, 2.4426007377405277e-36, 3.7200759760208356e-44, 1.0, 5.380186160021138e-32, 0.999997739675702, 1.0, 1.0, 1.0, 1.0, 1.7587922024243116e-25, 0.9999999999981204, 1.0, 4.658886145103376e-15, 0.9999999999622486, 0.9999999997210531, 1.0, 0.9999999999622486, 5.109089028037221e-12, 0.0024726231566347743, 1.0, 1.603810890548638e-28, 1.299581425007503e-24, 1.3887943864771144e-11, 2.031092662734811e-42, 2.7487850079102147e-43, 4.5397868702434395e-05, 8.985825944049381e-37, 2.319522830243569e-16, 4.780892883885469e-25, 0.9999999999999873, 3.7200759760208356e-44, 1.0, 0.0066928509242848554, 2.1705220113036392e-29, 4.658886145103376e-15, 1.0, 1.1850648642339812e-27, 1.0, 0.9999999979388463, 3.305700626760734e-37, 6.639677199580733e-36, 5.602796406145941e-09, 0.01798620996209156, 0.9999999999999656, 1.0, 3.442477108469858e-14, 6.47023492564546e-26, 1.0, 4.359610000063081e-28, 7.281290178321645e-33, 4.4737793061811207e-38, 0.9999999999999065, 2.3802664086944004e-26, 3.305700626760734e-37, 1.0530617357553813e-20, 0.9999999992417439, 1.462486227251231e-31, 1.0, 1.0, 1.0]\n"
     ]
    }
   ],
   "source": [
    "print(two_four(nums100))"
   ]
  },
  {
   "cell_type": "code",
   "execution_count": 18,
   "metadata": {},
   "outputs": [
    {
     "data": {
      "text/plain": [
       "['y', 'x', 'f', 'n']"
      ]
     },
     "execution_count": 18,
     "metadata": {},
     "output_type": "execute_result"
    }
   ],
   "source": [
    "two_five()"
   ]
  },
  {
   "cell_type": "code",
   "execution_count": 93,
   "metadata": {},
   "outputs": [],
   "source": [
    "bad_words = ['4r5e','5h1t','5hit','a55','anal','anus','ar5e','arrse','arse','ass','ass-fucker','asses','assfucker','assfukka','asshole','assholes','asswhole','a_s_s','b!tch','b00bs','b17ch','b1tch','ballbag','balls','ballsack','bastard','beastial','beastiality','bellend','bestial','bestiality','bi+ch','biatch','bitch','bitcher','bitchers','bitches','bitchin','bitching','bloody','blow job','blowjob','blowjobs','boiolas','bollock','bollok','boner','boob','boobs','booobs','boooobs','booooobs','booooooobs','breasts','buceta','bugger','bum','bunny fucker','butt','butthole','buttmunch','buttplug','c0ck','c0cksucker','carpet muncher','cawk','chink','cipa','cl1t','clit','clitoris','clits','cnut','cock','cock-sucker','cockface','cockhead','cockmunch','cockmuncher','cocks','cocksuck','cocksucked','cocksucker','cocksucking','cocksucks','cocksuka','cocksukka','cok','cokmuncher','coksucka','coon','cox','crap','cum','cummer','cumming','cums','cumshot','cunilingus','cunillingus','cunnilingus','cunt','cuntlick','cuntlicker','cuntlicking','cunts','cyalis','cyberfuc','cyberfuck','cyberfucked','cyberfucker','cyberfuckers','cyberfucking','d1ck','damn','dick','dickhead','dildo','dildos','dink','dinks','dirsa','dlck','dog-fucker','doggin','dogging','donkeyribber','doosh','duche','dyke','ejaculate','ejaculated','ejaculates','ejaculating','ejaculatings','ejaculation','ejakulate','f u c k','f u c k e r','f4nny','fag','fagging','faggitt','faggot','faggs','fagot','fagots','fags','fanny','fannyflaps','fannyfucker','fanyy','fatass','fcuk','fcuker','fcuking','feck','fecker','felching','fellate','fellatio','fingerfuck','fingerfucked','fingerfucker','fingerfuckers','fingerfucking','fingerfucks','fistfuck','fistfucked','fistfucker','fistfuckers','fistfucking','fistfuckings','fistfucks','flange','fook','fooker','fuck','fucka','fucked','fucker','fuckers','fuckhead','fuckheads','fuckin','fucking','fuckings','fuckingshitmotherfucker','fuckme','fucks','fuckwhit','fuckwit','fudge packer','fudgepacker','fuk','fuker','fukker','fukkin','fuks','fukwhit','fukwit','fux','fux0r','f_u_c_k','gangbang','gangbanged','gangbangs','gaylord','gaysex','goatse','God','god-dam','god-damned','goddamn','goddamned','hardcoresex','hell','heshe','hoar','hoare','hoer','homo','hore','horniest','horny','hotsex','jack-off','jackoff','jap','jerk-off','jism','jiz','jizm','jizz','kawk','knob','knobead','knobed','knobend','knobhead','knobjocky','knobjokey','kock','kondum','kondums','kum','kummer','kumming','kums','kunilingus','l3i+ch','l3itch','labia','lmfao','lust','lusting','m0f0','m0fo','m45terbate','ma5terb8','ma5terbate','masochist','master-bate','masterb8','masterbat*','masterbat3','masterbate','masterbation','masterbations','masturbate','mo-fo','mof0','mofo','mothafuck','mothafucka','mothafuckas','mothafuckaz','mothafucked','mothafucker','mothafuckers','mothafuckin','mothafucking','mothafuckings','mothafucks','mother fucker','motherfuck','motherfucked','motherfucker','motherfuckers','motherfuckin','motherfucking','motherfuckings','motherfuckka','motherfucks','muff','mutha','muthafecker','muthafuckker','muther','mutherfucker','n1gga','n1gger','nazi','nigg3r','nigg4h','nigga','niggah','niggas','niggaz','nigger','niggers','nob','nob jokey','nobhead','nobjocky','nobjokey','numbnuts','nutsack','orgasim','orgasims','orgasm','orgasms','p0rn','pawn','pecker','penis','penisfucker','phonesex','phuck','phuk','phuked','phuking','phukked','phukking','phuks','phuq','pigfucker','pimpis','piss','pissed','pisser','pissers','pisses','pissflaps','pissin','pissing','pissoff','poop','porn','porno','pornography','pornos','prick','pricks','pron','pube','pusse','pussi','pussies','pussy','pussys','rectum','retard','rimjaw','rimming','s hit','s.o.b.','sadist','schlong','screwing','scroat','scrote','scrotum','semen','sex','sh!+','sh!t','sh1t','shag','shagger','shaggin','shagging','shemale','shi+','shit','shitdick','shite','shited','shitey','shitfuck','shitfull','shithead','shiting','shitings','shits','shitted','shitter','shitters','shitting','shittings','shitty','skank','slut','sluts','smegma','smut','snatch','son-of-a-bitch','spac','spunk','s_h_i_t','t1tt1e5','t1tties','teets','teez','testical','testicle','tit','titfuck','tits','titt','tittie5','tittiefucker','titties','tittyfuck','tittywank','titwank','tosser','turd','tw4t','twat','twathead','twatty','twunt','twunter','v14gra','v1gra','vagina','viagra','vulva','w00se','wang','wank','wanker','wanky','whoar','whore','willies','willy','xrated','xxx']"
   ]
  },
  {
   "cell_type": "code",
   "execution_count": 94,
   "metadata": {},
   "outputs": [],
   "source": [
    "# Spliting words \n",
    "text = \"A quote from a co-worker of mine as we were driving through Oakland California one day looking at a “Hood Rat” with his gold bling around his neck and in his mouth….Look at that STUPID MotherFucker  .. He’s so Effing STUPID he doesn’t Effing know how Effing STUPID HE LOOKS that EFFING DUMB MFer! This particular co-worker was of a melanin heavy constituency himself….I about wrecked the company truck laughing as I told him he probably made the Guinness book on the highest amount of explicatives used in a single sentance by a person\""
   ]
  },
  {
   "cell_type": "code",
   "execution_count": 95,
   "metadata": {},
   "outputs": [],
   "source": [
    "def word_search():\n",
    "# Text splitting into words\n",
    "text = text.replace('.',' ')\n",
    "word_list = text.split()\n",
    "\n",
    "# Words being striped of whitespaces\n",
    "word_list = [ w.strip() for w in word_list]\n",
    "\n",
    "# Words being stripped of punctuation\n",
    "table = str.maketrans('', '', string.punctuation)\n",
    "word_list = [w.translate(table) for w in word_list]\n",
    "\n",
    "# Changing to lower case\n",
    "word_list = [w.lower() for w in word_list]"
   ]
  },
  {
   "cell_type": "code",
   "execution_count": 97,
   "metadata": {},
   "outputs": [
    {
     "data": {
      "text/plain": [
       "['motherfucker']"
      ]
     },
     "execution_count": 97,
     "metadata": {},
     "output_type": "execute_result"
    }
   ],
   "source": [
    "return [ w for w in word_list if w in bad_words]"
   ]
  },
  {
   "cell_type": "code",
   "execution_count": 27,
   "metadata": {},
   "outputs": [],
   "source": [
    "from functools import reduce"
   ]
  },
  {
   "cell_type": "code",
   "execution_count": null,
   "metadata": {},
   "outputs": [],
   "source": []
  },
  {
   "cell_type": "code",
   "execution_count": 25,
   "metadata": {},
   "outputs": [],
   "source": [
    "l =[1,2,3,4,5,6,7,8,9,10]"
   ]
  },
  {
   "cell_type": "code",
   "execution_count": 122,
   "metadata": {},
   "outputs": [
    {
     "data": {
      "text/plain": [
       "30"
      ]
     },
     "execution_count": 122,
     "metadata": {},
     "output_type": "execute_result"
    }
   ],
   "source": [
    "reduce(lambda a,b: a+b if b%2 ==0 else a, l, 0)"
   ]
  },
  {
   "cell_type": "code",
   "execution_count": 23,
   "metadata": {},
   "outputs": [],
   "source": [
    "list_ascii = 'abcdefghijklmnopqrstuvwxyz'\n",
    "\n",
    "def four_one(l):\n",
    "    return reduce(lambda a,b: a+b if b%2 ==0 else a, l, 0)\n",
    "\n",
    "def four_two(list_ascii):\n",
    "    return reduce(lambda a,b: a if ord(a) > ord(b) else b, list_ascii)"
   ]
  },
  {
   "cell_type": "code",
   "execution_count": 29,
   "metadata": {},
   "outputs": [
    {
     "data": {
      "text/plain": [
       "'z'"
      ]
     },
     "execution_count": 29,
     "metadata": {},
     "output_type": "execute_result"
    }
   ],
   "source": [
    "four_two(list_ascii)"
   ]
  },
  {
   "cell_type": "code",
   "execution_count": null,
   "metadata": {},
   "outputs": [],
   "source": [
    "#Using randint, random.choice and list comprehensions, \n",
    "#write an expression that generates 15 random KADDAADDDD number plates, \n",
    "#where KA is fixed, D stands for a digit, and A stands for Capital alphabets. \n",
    "#10<<DD<<99 & 1000<<DDDD<<9999"
   ]
  },
  {
   "cell_type": "code",
   "execution_count": 42,
   "metadata": {},
   "outputs": [],
   "source": [
    "import random\n",
    "\n",
    "alpha_caps = ['A','B','C','D','E','F','G','H','I','J','K','L','M','N','O','P','Q','R','S','T','U','V','W','X','Y','Z']"
   ]
  },
  {
   "cell_type": "code",
   "execution_count": 147,
   "metadata": {},
   "outputs": [
    {
     "data": {
      "text/plain": [
       "['KA77VZ8967',\n",
       " 'KA34ZR5515',\n",
       " 'KA70TX3262',\n",
       " 'KA56CK7634',\n",
       " 'KA78BP9848',\n",
       " 'KA53DY2398',\n",
       " 'KA27ZX9836',\n",
       " 'KA36SB7019',\n",
       " 'KA95PS3727',\n",
       " 'KA43ZV4372',\n",
       " 'KA18LJ7023',\n",
       " 'KA11TF1042',\n",
       " 'KA37LE1544',\n",
       " 'KA27UO1198',\n",
       " 'KA34GC3251']"
      ]
     },
     "execution_count": 147,
     "metadata": {},
     "output_type": "execute_result"
    }
   ],
   "source": [
    "a = ['KA' for i in range(15)]\n",
    "b = [str(random.randint(10,99)) for i in range(15)]\n",
    "c = [random.choice(alpha_caps) for i in range(15)]\n",
    "d = [random.choice(alpha_caps) for i in range(15)]\n",
    "e = [str(random.randint(1000,9999)) for i in range(15)]\n",
    "\n",
    "[i[0]+ i[1]+ i[2]+ i[3]+ i[4] for i in zip(a,b,c,d,e)]"
   ]
  },
  {
   "cell_type": "code",
   "execution_count": 54,
   "metadata": {},
   "outputs": [],
   "source": [
    "from functools import partial"
   ]
  },
  {
   "cell_type": "code",
   "execution_count": 151,
   "metadata": {},
   "outputs": [],
   "source": [
    "def num_plate(x,y,z):\n",
    "    a = [x for i in range(15)]\n",
    "    b = [str(random.randint(10,99)) for i in range(15)]\n",
    "    c = [random.choice(alpha_caps) for i in range(15)]\n",
    "    d = [random.choice(alpha_caps) for i in range(15)]\n",
    "    e = [str(random.randint(y,z)) for i in range(15)]\n",
    "    \n",
    "    print([i[0]+ i[1]+ i[2]+ i[3]+ i[4] for i in zip(a,b,c,d,e)])\n",
    "    "
   ]
  },
  {
   "cell_type": "code",
   "execution_count": 153,
   "metadata": {},
   "outputs": [],
   "source": [
    "f = partial(num_plate, y = 1000, z = 9999)"
   ]
  },
  {
   "cell_type": "code",
   "execution_count": 157,
   "metadata": {},
   "outputs": [
    {
     "name": "stdout",
     "output_type": "stream",
     "text": [
      "['DL60HS8554', 'DL28WC2620', 'DL47IG4072', 'DL77PJ1030', 'DL72LT2560', 'DL18BX6640', 'DL87OI4629', 'DL70KN4578', 'DL81JM4273', 'DL64PL1217', 'DL27ZU2986', 'DL91SH5917', 'DL80YG2464', 'DL65JY1890', 'DL83XC6205']\n"
     ]
    }
   ],
   "source": [
    "f('DL')"
   ]
  },
  {
   "cell_type": "code",
   "execution_count": 21,
   "metadata": {},
   "outputs": [],
   "source": [
    "\n",
    "def fib(x):\n",
    "\n",
    "    #Creating fibonnaci series\n",
    "    fib_list = [1,1]\n",
    "\n",
    "    for i in range(10000-2):\n",
    "        fib_list.append(fib_list[-1] + fib_list[-2])\n",
    "        if fib_list[-1] > 10000:\n",
    "            break\n",
    "\n",
    "    fib_list.pop()\n",
    "\n",
    "    # List/Filter/Lambda\n",
    "    return list(filter(lambda x: x in fib_list, x))"
   ]
  },
  {
   "cell_type": "code",
   "execution_count": 22,
   "metadata": {},
   "outputs": [
    {
     "data": {
      "text/plain": [
       "[1, 2, 3, 5]"
      ]
     },
     "execution_count": 22,
     "metadata": {},
     "output_type": "execute_result"
    }
   ],
   "source": [
    "fib([1,2,3,4,5])"
   ]
  },
  {
   "cell_type": "code",
   "execution_count": 30,
   "metadata": {},
   "outputs": [],
   "source": [
    "\n",
    "# Question1 \n",
    "def fib(x):\n",
    "\n",
    "    #Creating fibonnaci series\n",
    "    fib_list = [1,1]\n",
    "\n",
    "    for i in range(10000-2):\n",
    "        fib_list.append(fib_list[-1] + fib_list[-2])\n",
    "        if fib_list[-1] > 10000:\n",
    "            break\n",
    "\n",
    "    fib_list.pop()\n",
    "\n",
    "    # List/Filter/Lambda\n",
    "    return list(filter(lambda x: x in fib_list, x))"
   ]
  },
  {
   "cell_type": "code",
   "execution_count": 32,
   "metadata": {},
   "outputs": [
    {
     "data": {
      "text/plain": [
       "[1, 2, 3, 5, 8]"
      ]
     },
     "execution_count": 32,
     "metadata": {},
     "output_type": "execute_result"
    }
   ],
   "source": [
    "fib([1,2,3,4,5,6,7,8,9,10])"
   ]
  },
  {
   "cell_type": "code",
   "execution_count": 33,
   "metadata": {},
   "outputs": [],
   "source": [
    "\n",
    "def two_one(l1, l2):\n",
    "    return [a + b for a in l1 if a % 2 == 0 for b in l2 if b % 2 == 1]\n",
    "\n",
    "def two_two(str1):\n",
    "    return [a for a in str1.lower() if a not in ['a','e','i','o','u']]\n",
    "\n",
    "def two_three(nums100):\n",
    "    return [x if(x>0) else 0 for x in nums100]\n",
    "\n",
    "def two_four(nums100):\n",
    "    sig = lambda x: 1 / (1 + math.exp(-x))\n",
    "    return [sig(x) for x in nums100]\n",
    "\n",
    "def two_five(str1):\n",
    "    func_char = lambda x: chr(((ord(x) + 5 - 96) % 26) + 96)\n",
    "    return [func_char(x) for x in str1]\n"
   ]
  },
  {
   "cell_type": "code",
   "execution_count": 36,
   "metadata": {},
   "outputs": [
    {
     "data": {
      "text/plain": [
       "['y', 'x', 'f', 'n']"
      ]
     },
     "execution_count": 36,
     "metadata": {},
     "output_type": "execute_result"
    }
   ],
   "source": [
    "two_five()"
   ]
  },
  {
   "cell_type": "code",
   "execution_count": 51,
   "metadata": {},
   "outputs": [],
   "source": [
    "\n",
    "def test_num_plate_ka():\n",
    "    list1 = num_plate_ka()\n",
    "    assert sum([0 for i in list1 if i[0:2] == 'KA']) == 0, 'Improper num plate function'"
   ]
  },
  {
   "cell_type": "code",
   "execution_count": 52,
   "metadata": {},
   "outputs": [],
   "source": [
    "test_num_plate_ka()"
   ]
  },
  {
   "cell_type": "code",
   "execution_count": 43,
   "metadata": {},
   "outputs": [],
   "source": [
    "\n",
    "def num_plate_ka():\n",
    "    a = ['KA' for i in range(15)]\n",
    "    b = [str(random.randint(10,99)) for i in range(15)]\n",
    "    c = [random.choice(alpha_caps) for i in range(15)]\n",
    "    d = [random.choice(alpha_caps) for i in range(15)]\n",
    "    e = [str(random.randint(1000,9999)) for i in range(15)]\n",
    "\n",
    "    return [i[0]+ i[1]+ i[2]+ i[3]+ i[4] for i in zip(a,b,c,d,e)]"
   ]
  },
  {
   "cell_type": "code",
   "execution_count": 58,
   "metadata": {},
   "outputs": [],
   "source": [
    "\n",
    "def num_plate(x,y,z):\n",
    "    a = [x for i in range(15)]\n",
    "    b = [str(random.randint(10,99)) for i in range(15)]\n",
    "    c = [random.choice(alpha_caps) for i in range(15)]\n",
    "    d = [random.choice(alpha_caps) for i in range(15)]\n",
    "    e = [str(random.randint(y,z)) for i in range(15)]\n",
    "    \n",
    "    return [i[0]+ i[1]+ i[2]+ i[3]+ i[4] for i in zip(a,b,c,d,e)]\n",
    "\n",
    "f = partial(num_plate, y = 1000, z = 9999)"
   ]
  },
  {
   "cell_type": "code",
   "execution_count": 61,
   "metadata": {},
   "outputs": [],
   "source": [
    "\n",
    "def test_num_plate():\n",
    "    list1 = f('DL')\n",
    "    assert sum([0 for i in list1 if i[0:2] == 'DL']) == 0, 'Improper num plate function'"
   ]
  },
  {
   "cell_type": "code",
   "execution_count": 62,
   "metadata": {},
   "outputs": [],
   "source": [
    "test_num_plate()"
   ]
  },
  {
   "cell_type": "code",
   "execution_count": 83,
   "metadata": {},
   "outputs": [],
   "source": [
    "#adds every 3rd number in a list\n",
    "l =[1,2,3,4,5,6,7,8,9,10]"
   ]
  },
  {
   "cell_type": "code",
   "execution_count": 89,
   "metadata": {},
   "outputs": [
    {
     "data": {
      "text/plain": [
       "18"
      ]
     },
     "execution_count": 89,
     "metadata": {},
     "output_type": "execute_result"
    }
   ],
   "source": [
    "reduce(lambda a,b: a+b ,l[2::3])"
   ]
  },
  {
   "cell_type": "code",
   "execution_count": 88,
   "metadata": {},
   "outputs": [
    {
     "data": {
      "text/plain": [
       "[2, 4, 6, 8, 10]"
      ]
     },
     "execution_count": 88,
     "metadata": {},
     "output_type": "execute_result"
    }
   ],
   "source": [
    "l[1::2]"
   ]
  },
  {
   "cell_type": "code",
   "execution_count": null,
   "metadata": {},
   "outputs": [],
   "source": []
  }
 ],
 "metadata": {
  "kernelspec": {
   "display_name": "Python 3",
   "language": "python",
   "name": "python3"
  },
  "language_info": {
   "codemirror_mode": {
    "name": "ipython",
    "version": 3
   },
   "file_extension": ".py",
   "mimetype": "text/x-python",
   "name": "python",
   "nbconvert_exporter": "python",
   "pygments_lexer": "ipython3",
   "version": "3.7.6"
  }
 },
 "nbformat": 4,
 "nbformat_minor": 4
}
