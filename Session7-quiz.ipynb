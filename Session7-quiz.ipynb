{
 "cells": [
  {
   "cell_type": "code",
   "execution_count": null,
   "metadata": {},
   "outputs": [],
   "source": []
  },
  {
   "cell_type": "code",
   "execution_count": 35,
   "metadata": {},
   "outputs": [],
   "source": [
    "import random"
   ]
  },
  {
   "cell_type": "code",
   "execution_count": 28,
   "metadata": {},
   "outputs": [],
   "source": [
    "day = list(range(1,32))\n",
    "year = list(range(1901,2021))\n",
    "month = ['Jan','Feb','Mar','Apr','May','Jun','Jul','Aug','Sep','Oct','Nov','Dec']\n",
    "\n",
    "def suffix(a):\n",
    "    if a == 1:\n",
    "        return 'st'\n",
    "    if a == 2:\n",
    "        return 'nd'\n",
    "    if a == 3:\n",
    "        return 'rd'\n",
    "    else:\n",
    "        return 'th'"
   ]
  },
  {
   "cell_type": "code",
   "execution_count": 43,
   "metadata": {},
   "outputs": [],
   "source": [
    "d_l = list()\n",
    "s_l = list()\n",
    "m_l = list()\n",
    "y_l = list()\n",
    "\n",
    "for i in range(20):\n",
    "    d_l.append(random.choice(day))\n",
    "    s_l.append(suffix(d_l[i]))\n",
    "    m_l.append(random.choice(month))\n",
    "    y_l.append(random.choice(year))"
   ]
  },
  {
   "cell_type": "code",
   "execution_count": 44,
   "metadata": {},
   "outputs": [
    {
     "data": {
      "text/plain": [
       "['3rd, Mar, 2018',\n",
       " '30th, Jun, 1990',\n",
       " '20th, May, 1962',\n",
       " '29th, Dec, 1993',\n",
       " '4th, Mar, 2014',\n",
       " '2nd, Jul, 1960',\n",
       " '5th, Aug, 2017',\n",
       " '14th, Jun, 1979',\n",
       " '23th, Nov, 1955',\n",
       " '24th, Jun, 1981',\n",
       " '14th, Jun, 1988',\n",
       " '28th, Jan, 1982',\n",
       " '7th, Apr, 1918',\n",
       " '3rd, Oct, 1995',\n",
       " '13th, May, 2020',\n",
       " '2nd, Aug, 1931',\n",
       " '14th, Dec, 1944',\n",
       " '31th, Jul, 1933',\n",
       " '7th, Oct, 1929',\n",
       " '16th, May, 1907']"
      ]
     },
     "execution_count": 44,
     "metadata": {},
     "output_type": "execute_result"
    }
   ],
   "source": [
    "[ str(i[0]) + str(i[1]) + ', ' + str(i[2]) + ', ' + str(i[3]) for i in zip(d_l,s_l,m_l,y_l)]"
   ]
  },
  {
   "cell_type": "code",
   "execution_count": null,
   "metadata": {},
   "outputs": [],
   "source": []
  },
  {
   "cell_type": "code",
   "execution_count": null,
   "metadata": {},
   "outputs": [],
   "source": []
  }
 ],
 "metadata": {
  "kernelspec": {
   "display_name": "Python 3",
   "language": "python",
   "name": "python3"
  },
  "language_info": {
   "codemirror_mode": {
    "name": "ipython",
    "version": 3
   },
   "file_extension": ".py",
   "mimetype": "text/x-python",
   "name": "python",
   "nbconvert_exporter": "python",
   "pygments_lexer": "ipython3",
   "version": "3.7.6"
  }
 },
 "nbformat": 4,
 "nbformat_minor": 4
}
